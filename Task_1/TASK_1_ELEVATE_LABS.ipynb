{
  "nbformat": 4,
  "nbformat_minor": 0,
  "metadata": {
    "colab": {
      "provenance": []
    },
    "kernelspec": {
      "name": "python3",
      "display_name": "Python 3"
    },
    "language_info": {
      "name": "python"
    }
  },
  "cells": [
    {
      "cell_type": "code",
      "execution_count": 1,
      "metadata": {
        "colab": {
          "base_uri": "https://localhost:8080/"
        },
        "id": "Ddrdly_85yZH",
        "outputId": "6e1cacfe-f481-47d8-8c5c-56b15f3d8b5d"
      },
      "outputs": [
        {
          "output_type": "stream",
          "name": "stdout",
          "text": [
            "   PassengerId  Survived  Pclass  \\\n",
            "0            1         0       3   \n",
            "1            2         1       1   \n",
            "2            3         1       3   \n",
            "3            4         1       1   \n",
            "4            5         0       3   \n",
            "\n",
            "                                                Name     Sex   Age  SibSp  \\\n",
            "0                            Braund, Mr. Owen Harris    male  22.0      1   \n",
            "1  Cumings, Mrs. John Bradley (Florence Briggs Th...  female  38.0      1   \n",
            "2                             Heikkinen, Miss. Laina  female  26.0      0   \n",
            "3       Futrelle, Mrs. Jacques Heath (Lily May Peel)  female  35.0      1   \n",
            "4                           Allen, Mr. William Henry    male  35.0      0   \n",
            "\n",
            "   Parch            Ticket     Fare Cabin Embarked  \n",
            "0      0         A/5 21171   7.2500   NaN        S  \n",
            "1      0          PC 17599  71.2833   C85        C  \n",
            "2      0  STON/O2. 3101282   7.9250   NaN        S  \n",
            "3      0            113803  53.1000  C123        S  \n",
            "4      0            373450   8.0500   NaN        S  \n",
            "<class 'pandas.core.frame.DataFrame'>\n",
            "RangeIndex: 891 entries, 0 to 890\n",
            "Data columns (total 12 columns):\n",
            " #   Column       Non-Null Count  Dtype  \n",
            "---  ------       --------------  -----  \n",
            " 0   PassengerId  891 non-null    int64  \n",
            " 1   Survived     891 non-null    int64  \n",
            " 2   Pclass       891 non-null    int64  \n",
            " 3   Name         891 non-null    object \n",
            " 4   Sex          891 non-null    object \n",
            " 5   Age          714 non-null    float64\n",
            " 6   SibSp        891 non-null    int64  \n",
            " 7   Parch        891 non-null    int64  \n",
            " 8   Ticket       891 non-null    object \n",
            " 9   Fare         891 non-null    float64\n",
            " 10  Cabin        204 non-null    object \n",
            " 11  Embarked     889 non-null    object \n",
            "dtypes: float64(2), int64(5), object(5)\n",
            "memory usage: 83.7+ KB\n",
            "None\n",
            "PassengerId      0\n",
            "Survived         0\n",
            "Pclass           0\n",
            "Name             0\n",
            "Sex              0\n",
            "Age            177\n",
            "SibSp            0\n",
            "Parch            0\n",
            "Ticket           0\n",
            "Fare             0\n",
            "Cabin          687\n",
            "Embarked         2\n",
            "dtype: int64\n"
          ]
        }
      ],
      "source": [
        "# Step 1: Import the dataset and basic exploration\n",
        "import pandas as pd\n",
        "import numpy as np\n",
        "import seaborn as sns\n",
        "import matplotlib.pyplot as plt\n",
        "\n",
        "# Load dataset\n",
        "df = pd.read_csv(\"/content/drive/MyDrive/Titanic-Dataset.csv\")\n",
        "\n",
        "# Display first few rows\n",
        "print(df.head())\n",
        "\n",
        "# Basic info\n",
        "print(df.info())\n",
        "\n",
        "# Check null values\n",
        "print(df.isnull().sum())\n"
      ]
    },
    {
      "cell_type": "code",
      "source": [
        "# Instead of using inplace=True (which causes warnings), do this:\n",
        "df['Age'] = df['Age'].fillna(df['Age'].mean())\n",
        "df['Fare'] = df['Fare'].fillna(df['Fare'].median())\n",
        "df['Cabin'] = df['Cabin'].fillna('Unknown')\n",
        "df['Embarked'] = df['Embarked'].fillna(df['Embarked'].mode()[0])\n"
      ],
      "metadata": {
        "id": "pp80_YuQ_f_a"
      },
      "execution_count": 5,
      "outputs": []
    },
    {
      "cell_type": "code",
      "source": [
        "# Step 3: Convert categorical features into numerical\n",
        "from sklearn.preprocessing import LabelEncoder\n",
        "\n",
        "label_enc = LabelEncoder()\n",
        "df['Sex'] = label_enc.fit_transform(df['Sex'])          # male=1, female=0\n",
        "df['Embarked'] = label_enc.fit_transform(df['Embarked'])  # C=0, Q=1, S=2\n"
      ],
      "metadata": {
        "id": "EedXPc5PAe1-"
      },
      "execution_count": 6,
      "outputs": []
    },
    {
      "cell_type": "code",
      "source": [
        "from sklearn.preprocessing import StandardScaler\n",
        "import numpy as np\n",
        "\n",
        "# Sample data\n",
        "X_train = np.array([[1, 2], [3, 4], [5, 6]])\n",
        "X_test = np.array([[7, 8], [9, 10]])\n",
        "\n",
        "# Initialize the scaler\n",
        "scaler = StandardScaler()\n",
        "\n",
        "# Fit on training data and transform it\n",
        "X_train_scaled = scaler.fit_transform(X_train)\n",
        "\n",
        "# Transform the test data using the same scaler\n",
        "X_test_scaled = scaler.transform(X_test)\n",
        "\n",
        "print(\"X_train_scaled:\\n\", X_train_scaled)\n",
        "print(\"\\nX_test_scaled:\\n\", X_test_scaled)"
      ],
      "metadata": {
        "colab": {
          "base_uri": "https://localhost:8080/"
        },
        "id": "Y88FmYvkD0w4",
        "outputId": "8f9762dd-ea0b-497a-ab3f-526ac2adce4d"
      },
      "execution_count": 9,
      "outputs": [
        {
          "output_type": "stream",
          "name": "stdout",
          "text": [
            "X_train_scaled:\n",
            " [[-1.22474487 -1.22474487]\n",
            " [ 0.          0.        ]\n",
            " [ 1.22474487  1.22474487]]\n",
            "\n",
            "X_test_scaled:\n",
            " [[2.44948974 2.44948974]\n",
            " [3.67423461 3.67423461]]\n"
          ]
        }
      ]
    },
    {
      "cell_type": "code",
      "source": [
        "print(df.head(5))"
      ],
      "metadata": {
        "colab": {
          "base_uri": "https://localhost:8080/"
        },
        "id": "Id_2ZWQPBSyD",
        "outputId": "c549f3d5-ac20-41bf-b607-8261b476f92a"
      },
      "execution_count": 8,
      "outputs": [
        {
          "output_type": "stream",
          "name": "stdout",
          "text": [
            "   PassengerId  Survived  Pclass  \\\n",
            "0            1         0       3   \n",
            "1            2         1       1   \n",
            "2            3         1       3   \n",
            "3            4         1       1   \n",
            "4            5         0       3   \n",
            "\n",
            "                                                Name  Sex   Age  SibSp  Parch  \\\n",
            "0                            Braund, Mr. Owen Harris    1  22.0      1      0   \n",
            "1  Cumings, Mrs. John Bradley (Florence Briggs Th...    0  38.0      1      0   \n",
            "2                             Heikkinen, Miss. Laina    0  26.0      0      0   \n",
            "3       Futrelle, Mrs. Jacques Heath (Lily May Peel)    0  35.0      1      0   \n",
            "4                           Allen, Mr. William Henry    1  35.0      0      0   \n",
            "\n",
            "             Ticket     Fare    Cabin  Embarked  \n",
            "0         A/5 21171   7.2500  Unknown         2  \n",
            "1          PC 17599  71.2833      C85         0  \n",
            "2  STON/O2. 3101282   7.9250  Unknown         2  \n",
            "3            113803  53.1000     C123         2  \n",
            "4            373450   8.0500  Unknown         2  \n"
          ]
        }
      ]
    },
    {
      "cell_type": "code",
      "source": [
        "# Step 4: Normalize/standardize numerical features\n",
        "from sklearn.preprocessing import StandardScaler\n",
        "\n",
        "scaler = StandardScaler()\n",
        "num_cols = ['Age', 'Fare', 'SibSp', 'Parch']\n",
        "\n",
        "df[num_cols] = scaler.fit_transform(df[num_cols])\n"
      ],
      "metadata": {
        "id": "wy9rFxZFEeqt"
      },
      "execution_count": 10,
      "outputs": []
    },
    {
      "cell_type": "code",
      "source": [
        "# Step 5: Visualize outliers using boxplots and remove them\n",
        "for col in num_cols:\n",
        "    sns.boxplot(x=df[col])\n",
        "    plt.title(f'Boxplot of {col}')\n",
        "    plt.show()\n",
        "\n",
        "# Remove outliers using IQR method\n",
        "def remove_outliers(df, col):\n",
        "    Q1 = df[col].quantile(0.25)\n",
        "    Q3 = df[col].quantile(0.75)\n",
        "    IQR = Q3 - Q1\n",
        "    lower = Q1 - 1.5 * IQR\n",
        "    upper = Q3 + 1.5 * IQR\n",
        "    return df[(df[col] >= lower) & (df[col] <= upper)]\n",
        "\n",
        "for col in num_cols:\n",
        "    df = remove_outliers(df, col)\n",
        "\n",
        "print(df.shape)  # Final shape after outlier removal\n"
      ],
      "metadata": {
        "colab": {
          "base_uri": "https://localhost:8080/",
          "height": 1000
        },
        "id": "cchGChKQFADV",
        "outputId": "136c23a9-7346-4e22-80d8-36b94d95d810"
      },
      "execution_count": 11,
      "outputs": [
        {
          "output_type": "display_data",
          "data": {
            "text/plain": [
              "<Figure size 640x480 with 1 Axes>"
            ],
            "image/png": "[encoded data removed]"
          },
          "metadata": {}
        },
        {
          "output_type": "display_data",
          "data": {
            "text/plain": [
              "<Figure size 640x480 with 1 Axes>"
            ],
            "image/png": "[encoded data removed]"
          },
          "metadata": {}
        },
        {
          "output_type": "display_data",
          "data": {
            "text/plain": [
              "<Figure size 640x480 with 1 Axes>"
            ],
            "image/png": "[encoded data removed]"
          },
          "metadata": {}
        },
        {
          "output_type": "display_data",
          "data": {
            "text/plain": [
              "<Figure size 640x480 with 1 Axes>"
            ],
            "image/png": "[encoded data removed]"
          },
          "metadata": {}
        },
        {
          "output_type": "stream",
          "name": "stdout",
          "text": [
            "(577, 12)\n"
          ]
        }
      ]
    },
    {
      "cell_type": "markdown",
      "source": [
        "# 🧠 Data Preprocessing: Q&A Cheatsheet\n",
        "\n",
        "---\n",
        "\n",
        "### 1️⃣ What are the different types of missing data?\n",
        "\n",
        "- **MCAR (Missing Completely at Random)**: No pattern or reason behind missingness.\n",
        "- **MAR (Missing at Random)**: Missingness depends on observed data.\n",
        "- **MNAR (Missing Not at Random)**: Missingness depends on unobserved data (not random).\n",
        "\n",
        "---\n",
        "\n",
        "### 2️⃣ How do you handle categorical variables?\n",
        "\n",
        "- **Label Encoding**: Assigns a unique integer to each category.  \n",
        "  👉 Use for tree-based models (e.g., `male=0`, `female=1`).\n",
        "  \n",
        "- **One-Hot Encoding**: Creates binary columns for each category.  \n",
        "  👉 Best for linear models to avoid ordinal relationships.\n",
        "\n",
        "- **Ordinal Encoding**: Use when categories have order (e.g., `Low=0`, `Medium=1`, `High=2`).\n",
        "\n",
        "---\n",
        "\n",
        "### 3️⃣ What is the difference between normalization and standardization?\n",
        "\n",
        "| Technique       | Formula                                       | Result                   |\n",
        "|----------------|-----------------------------------------------|--------------------------|\n",
        "| Normalization   | \\[ x' = \\frac{x - x_{min}}{x_{max} - x_{min}} \\] | Scales to [0, 1]         |\n",
        "| Standardization | \\[ x' = \\frac{x - \\mu}{\\sigma} \\]             | Mean = 0, SD = 1         |\n",
        "\n",
        "---\n",
        "\n",
        "### 4️⃣ How do you detect outliers?\n",
        "\n",
        "- **Boxplot / IQR Method**:  \n",
        "  Outliers lie outside  \n",
        "  \\[ Q1 - 1.5 × IQR \\text{ or } Q3 + 1.5 × IQR \\]\n",
        "\n",
        "- **Z-score**:  \n",
        "  If \\[ |Z| > 3 \\], it's an outlier.\n",
        "\n",
        "- **Isolation Forest / Local Outlier Factor (LOF)**:  \n",
        "  ML-based outlier detection.\n",
        "\n",
        "---\n",
        "\n",
        "### 5️⃣ Why is preprocessing important in ML?\n",
        "\n",
        "- Removes noise and inconsistency\n",
        "- Converts data into a suitable format for ML algorithms\n",
        "- Improves **accuracy, speed**, and **interpretability**\n",
        "- Reduces chances of **bias, overfitting, or underfitting**\n",
        "\n",
        "---\n",
        "\n",
        "### 6️⃣ What is one-hot encoding vs label encoding?\n",
        "\n",
        "| Method           | Description                                | Example (`Color`)       |\n",
        "|------------------|--------------------------------------------|--------------------------|\n",
        "| Label Encoding   | Each category → unique number               | Red=0, Green=1, Blue=2   |\n",
        "| One-Hot Encoding | Creates binary column for each category     | Red=[1,0,0], Blue=[0,0,1]|\n",
        "\n",
        "- ❗ One-hot avoids implying order; label encoding can be misleading for linear models.\n",
        "\n",
        "---\n",
        "\n",
        "### 7️⃣ How do you handle data imbalance?\n",
        "\n",
        "- **Oversampling**: Duplicate or synthetically create samples from minority class (e.g., SMOTE).\n",
        "- **Undersampling**: Remove samples from the majority class.\n",
        "- **Class Weights**: Modify algorithm to penalize misclassification of minority class.\n",
        "- **Synthetic Methods**: Use ADASYN, SMOTE, etc.\n",
        "\n",
        "---\n",
        "\n",
        "### 8️⃣ Can preprocessing affect model accuracy?\n",
        "\n",
        "✅ **Absolutely yes!**\n",
        "\n",
        "- Good preprocessing:\n",
        "  - Improves **accuracy, generalization, and training speed**\n",
        "  - Avoids **data leakage**\n",
        "- Bad preprocessing:\n",
        "  - Leads to **poor results, model bias, or overfitting**\n",
        "\n",
        "---\n",
        "\n"
      ],
      "metadata": {
        "id": "YopZrEL3KlCZ"
      }
    }
  ]
}